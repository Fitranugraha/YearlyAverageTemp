{
 "cells": [
  {
   "cell_type": "code",
   "execution_count": 290,
   "metadata": {},
   "outputs": [],
   "source": [
    "import requests, ast\n",
    "import numpy as np\n",
    "import pandas as pd\n",
    "from datetime import datetime\n",
    "import time as t\n",
    "key = ''\n",
    "latitude = 32.7152778\n",
    "longitude = -117.1563889"
   ]
  },
  {
   "cell_type": "code",
   "execution_count": 320,
   "metadata": {},
   "outputs": [],
   "source": [
    "def sd_low_high(tiempo):\n",
    "    response = requests.get(f\"https://api.darksky.net/forecast/{key}/{latitude},{longitude},{tiempo}?exclude=currently,minutely,hourly\").text\n",
    "    data = ast.literal_eval(response)['daily']['data'][0]\n",
    "    \n",
    "    if 'temperatureHigh' in data:\n",
    "        high = data['temperatureHigh']\n",
    "    else:\n",
    "        high = None\n",
    "        \n",
    "    if 'temperatureLow' in data:\n",
    "        low = data['temperatureLow']\n",
    "    else:\n",
    "        low = None\n",
    "        \n",
    "    return (low,high)"
   ]
  },
  {
   "cell_type": "code",
   "execution_count": 365,
   "metadata": {},
   "outputs": [],
   "source": [
    "def get_weather_data(year = 2018):\n",
    "    date = datetime(year,1,1)\n",
    "    time = int(date.timestamp())\n",
    "    daily_temps = []\n",
    "    dates = []\n",
    "    lows = []\n",
    "    highs = []\n",
    "    i = 0\n",
    "    while i < 31557600:\n",
    "        dates.append(datetime.fromtimestamp(time + i))\n",
    "        low, high = sd_low_high(time + i)\n",
    "        lows.append(low)\n",
    "        highs.append(high)\n",
    "        i+=86400\n",
    "    \n",
    "    weather_data_raw = pd.DataFrame(np.column_stack([dates,lows,highs]), columns = ['date','low','high'])\n",
    "    is_req_year = weather_data_raw.date.dt.year == year\n",
    "\n",
    "    return weather_data_raw[is_req_year]"
   ]
  },
  {
   "cell_type": "code",
   "execution_count": 322,
   "metadata": {},
   "outputs": [
    {
     "data": {
      "text/html": [
       "<div>\n",
       "<style>\n",
       "    .dataframe thead tr:only-child th {\n",
       "        text-align: right;\n",
       "    }\n",
       "\n",
       "    .dataframe thead th {\n",
       "        text-align: left;\n",
       "    }\n",
       "\n",
       "    .dataframe tbody tr th {\n",
       "        vertical-align: top;\n",
       "    }\n",
       "</style>\n",
       "<table border=\"1\" class=\"dataframe\">\n",
       "  <thead>\n",
       "    <tr style=\"text-align: right;\">\n",
       "      <th></th>\n",
       "      <th>date</th>\n",
       "      <th>lows</th>\n",
       "      <th>highs</th>\n",
       "    </tr>\n",
       "  </thead>\n",
       "  <tbody>\n",
       "    <tr>\n",
       "      <th>0</th>\n",
       "      <td>2018-01-01 00:00:00</td>\n",
       "      <td>48.71</td>\n",
       "      <td>69.65</td>\n",
       "    </tr>\n",
       "    <tr>\n",
       "      <th>1</th>\n",
       "      <td>2018-01-02 00:00:00</td>\n",
       "      <td>53.69</td>\n",
       "      <td>70.61</td>\n",
       "    </tr>\n",
       "    <tr>\n",
       "      <th>2</th>\n",
       "      <td>2018-01-03 00:00:00</td>\n",
       "      <td>56.22</td>\n",
       "      <td>78.37</td>\n",
       "    </tr>\n",
       "    <tr>\n",
       "      <th>3</th>\n",
       "      <td>2018-01-04 00:00:00</td>\n",
       "      <td>54.38</td>\n",
       "      <td>73.23</td>\n",
       "    </tr>\n",
       "    <tr>\n",
       "      <th>4</th>\n",
       "      <td>2018-01-05 00:00:00</td>\n",
       "      <td>55.99</td>\n",
       "      <td>77.4</td>\n",
       "    </tr>\n",
       "  </tbody>\n",
       "</table>\n",
       "</div>"
      ],
      "text/plain": [
       "                  date   lows  highs\n",
       "0  2018-01-01 00:00:00  48.71  69.65\n",
       "1  2018-01-02 00:00:00  53.69  70.61\n",
       "2  2018-01-03 00:00:00  56.22  78.37\n",
       "3  2018-01-04 00:00:00  54.38  73.23\n",
       "4  2018-01-05 00:00:00  55.99   77.4"
      ]
     },
     "execution_count": 322,
     "metadata": {},
     "output_type": "execute_result"
    }
   ],
   "source": [
    "df2018 = get_weather_data(2018); df2018.head()"
   ]
  },
  {
   "cell_type": "code",
   "execution_count": 353,
   "metadata": {},
   "outputs": [
    {
     "data": {
      "text/html": [
       "<div>\n",
       "<style>\n",
       "    .dataframe thead tr:only-child th {\n",
       "        text-align: right;\n",
       "    }\n",
       "\n",
       "    .dataframe thead th {\n",
       "        text-align: left;\n",
       "    }\n",
       "\n",
       "    .dataframe tbody tr th {\n",
       "        vertical-align: top;\n",
       "    }\n",
       "</style>\n",
       "<table border=\"1\" class=\"dataframe\">\n",
       "  <thead>\n",
       "    <tr style=\"text-align: right;\">\n",
       "      <th></th>\n",
       "      <th>date</th>\n",
       "      <th>lows</th>\n",
       "      <th>highs</th>\n",
       "    </tr>\n",
       "  </thead>\n",
       "  <tbody>\n",
       "    <tr>\n",
       "      <th>302</th>\n",
       "      <td>2018-10-30 01:00:00</td>\n",
       "      <td>None</td>\n",
       "      <td>None</td>\n",
       "    </tr>\n",
       "  </tbody>\n",
       "</table>\n",
       "</div>"
      ],
      "text/plain": [
       "                    date  lows highs\n",
       "302  2018-10-30 01:00:00  None  None"
      ]
     },
     "execution_count": 353,
     "metadata": {},
     "output_type": "execute_result"
    }
   ],
   "source": [
    "df2018[df2018.isnull().any(axis=1)]"
   ]
  },
  {
   "cell_type": "code",
   "execution_count": 354,
   "metadata": {},
   "outputs": [],
   "source": [
    "df2018 = df2018.fillna(method = 'bfill')"
   ]
  },
  {
   "cell_type": "code",
   "execution_count": 355,
   "metadata": {},
   "outputs": [
    {
     "data": {
      "text/html": [
       "<div>\n",
       "<style>\n",
       "    .dataframe thead tr:only-child th {\n",
       "        text-align: right;\n",
       "    }\n",
       "\n",
       "    .dataframe thead th {\n",
       "        text-align: left;\n",
       "    }\n",
       "\n",
       "    .dataframe tbody tr th {\n",
       "        vertical-align: top;\n",
       "    }\n",
       "</style>\n",
       "<table border=\"1\" class=\"dataframe\">\n",
       "  <thead>\n",
       "    <tr style=\"text-align: right;\">\n",
       "      <th></th>\n",
       "      <th>date</th>\n",
       "      <th>lows</th>\n",
       "      <th>highs</th>\n",
       "    </tr>\n",
       "  </thead>\n",
       "  <tbody>\n",
       "  </tbody>\n",
       "</table>\n",
       "</div>"
      ],
      "text/plain": [
       "Empty DataFrame\n",
       "Columns: [date, lows, highs]\n",
       "Index: []"
      ]
     },
     "execution_count": 355,
     "metadata": {},
     "output_type": "execute_result"
    }
   ],
   "source": [
    "df2018[df2018.isnull().any(axis=1)]"
   ]
  },
  {
   "cell_type": "code",
   "execution_count": 387,
   "metadata": {},
   "outputs": [],
   "source": [
    "df2018['avg'] = df2018[['low','high']].mean(axis=1)\n",
    "df2018['month'] = df2018['date'].dt.month"
   ]
  },
  {
   "cell_type": "code",
   "execution_count": 396,
   "metadata": {},
   "outputs": [
    {
     "data": {
      "text/html": [
       "<div>\n",
       "<style>\n",
       "    .dataframe thead tr:only-child th {\n",
       "        text-align: right;\n",
       "    }\n",
       "\n",
       "    .dataframe thead th {\n",
       "        text-align: left;\n",
       "    }\n",
       "\n",
       "    .dataframe tbody tr th {\n",
       "        vertical-align: top;\n",
       "    }\n",
       "</style>\n",
       "<table border=\"1\" class=\"dataframe\">\n",
       "  <thead>\n",
       "    <tr style=\"text-align: right;\">\n",
       "      <th></th>\n",
       "      <th>low</th>\n",
       "      <th>high</th>\n",
       "      <th>avg</th>\n",
       "    </tr>\n",
       "    <tr>\n",
       "      <th>month</th>\n",
       "      <th></th>\n",
       "      <th></th>\n",
       "      <th></th>\n",
       "    </tr>\n",
       "  </thead>\n",
       "  <tbody>\n",
       "    <tr>\n",
       "      <th>1</th>\n",
       "      <td>51.058065</td>\n",
       "      <td>62.973548</td>\n",
       "      <td>57.015806</td>\n",
       "    </tr>\n",
       "    <tr>\n",
       "      <th>2</th>\n",
       "      <td>52.883571</td>\n",
       "      <td>67.668929</td>\n",
       "      <td>60.276250</td>\n",
       "    </tr>\n",
       "    <tr>\n",
       "      <th>3</th>\n",
       "      <td>53.109677</td>\n",
       "      <td>65.073226</td>\n",
       "      <td>59.091452</td>\n",
       "    </tr>\n",
       "    <tr>\n",
       "      <th>4</th>\n",
       "      <td>52.767000</td>\n",
       "      <td>65.601667</td>\n",
       "      <td>59.184333</td>\n",
       "    </tr>\n",
       "    <tr>\n",
       "      <th>5</th>\n",
       "      <td>58.321290</td>\n",
       "      <td>69.862258</td>\n",
       "      <td>64.091774</td>\n",
       "    </tr>\n",
       "    <tr>\n",
       "      <th>6</th>\n",
       "      <td>61.705000</td>\n",
       "      <td>69.329333</td>\n",
       "      <td>65.517167</td>\n",
       "    </tr>\n",
       "    <tr>\n",
       "      <th>7</th>\n",
       "      <td>65.440323</td>\n",
       "      <td>74.576129</td>\n",
       "      <td>70.008226</td>\n",
       "    </tr>\n",
       "    <tr>\n",
       "      <th>8</th>\n",
       "      <td>66.763226</td>\n",
       "      <td>76.131290</td>\n",
       "      <td>71.447258</td>\n",
       "    </tr>\n",
       "    <tr>\n",
       "      <th>9</th>\n",
       "      <td>61.075000</td>\n",
       "      <td>75.591000</td>\n",
       "      <td>68.333000</td>\n",
       "    </tr>\n",
       "    <tr>\n",
       "      <th>10</th>\n",
       "      <td>57.973871</td>\n",
       "      <td>71.879355</td>\n",
       "      <td>64.926613</td>\n",
       "    </tr>\n",
       "    <tr>\n",
       "      <th>11</th>\n",
       "      <td>52.888000</td>\n",
       "      <td>67.162000</td>\n",
       "      <td>60.025000</td>\n",
       "    </tr>\n",
       "    <tr>\n",
       "      <th>12</th>\n",
       "      <td>47.765161</td>\n",
       "      <td>60.563226</td>\n",
       "      <td>54.164194</td>\n",
       "    </tr>\n",
       "  </tbody>\n",
       "</table>\n",
       "</div>"
      ],
      "text/plain": [
       "             low       high        avg\n",
       "month                                 \n",
       "1      51.058065  62.973548  57.015806\n",
       "2      52.883571  67.668929  60.276250\n",
       "3      53.109677  65.073226  59.091452\n",
       "4      52.767000  65.601667  59.184333\n",
       "5      58.321290  69.862258  64.091774\n",
       "6      61.705000  69.329333  65.517167\n",
       "7      65.440323  74.576129  70.008226\n",
       "8      66.763226  76.131290  71.447258\n",
       "9      61.075000  75.591000  68.333000\n",
       "10     57.973871  71.879355  64.926613\n",
       "11     52.888000  67.162000  60.025000\n",
       "12     47.765161  60.563226  54.164194"
      ]
     },
     "execution_count": 396,
     "metadata": {},
     "output_type": "execute_result"
    }
   ],
   "source": [
    "df1970['month'] = df1970['date'].dt.month\n",
    "m_avg_df1970 = df1970.resample('M', on='date').mean(); m_avg_df1970\n",
    "m_avg_df1970 = m_avg_df1970.set_index('month'); m_avg_df1970"
   ]
  },
  {
   "cell_type": "code",
   "execution_count": 395,
   "metadata": {},
   "outputs": [
    {
     "data": {
      "text/html": [
       "<div>\n",
       "<style>\n",
       "    .dataframe thead tr:only-child th {\n",
       "        text-align: right;\n",
       "    }\n",
       "\n",
       "    .dataframe thead th {\n",
       "        text-align: left;\n",
       "    }\n",
       "\n",
       "    .dataframe tbody tr th {\n",
       "        vertical-align: top;\n",
       "    }\n",
       "</style>\n",
       "<table border=\"1\" class=\"dataframe\">\n",
       "  <thead>\n",
       "    <tr style=\"text-align: right;\">\n",
       "      <th></th>\n",
       "      <th>low</th>\n",
       "      <th>high</th>\n",
       "      <th>avg</th>\n",
       "    </tr>\n",
       "    <tr>\n",
       "      <th>month</th>\n",
       "      <th></th>\n",
       "      <th></th>\n",
       "      <th></th>\n",
       "    </tr>\n",
       "  </thead>\n",
       "  <tbody>\n",
       "    <tr>\n",
       "      <th>1</th>\n",
       "      <td>54.184839</td>\n",
       "      <td>72.787742</td>\n",
       "      <td>63.486290</td>\n",
       "    </tr>\n",
       "    <tr>\n",
       "      <th>2</th>\n",
       "      <td>50.687143</td>\n",
       "      <td>69.269643</td>\n",
       "      <td>59.978393</td>\n",
       "    </tr>\n",
       "    <tr>\n",
       "      <th>3</th>\n",
       "      <td>52.612581</td>\n",
       "      <td>67.956774</td>\n",
       "      <td>60.284677</td>\n",
       "    </tr>\n",
       "    <tr>\n",
       "      <th>4</th>\n",
       "      <td>55.296333</td>\n",
       "      <td>73.235667</td>\n",
       "      <td>64.266000</td>\n",
       "    </tr>\n",
       "    <tr>\n",
       "      <th>5</th>\n",
       "      <td>57.596774</td>\n",
       "      <td>70.464516</td>\n",
       "      <td>64.030645</td>\n",
       "    </tr>\n",
       "    <tr>\n",
       "      <th>6</th>\n",
       "      <td>61.776667</td>\n",
       "      <td>77.205333</td>\n",
       "      <td>69.491000</td>\n",
       "    </tr>\n",
       "    <tr>\n",
       "      <th>7</th>\n",
       "      <td>68.964516</td>\n",
       "      <td>86.211613</td>\n",
       "      <td>77.588065</td>\n",
       "    </tr>\n",
       "    <tr>\n",
       "      <th>8</th>\n",
       "      <td>70.519032</td>\n",
       "      <td>86.880000</td>\n",
       "      <td>78.699516</td>\n",
       "    </tr>\n",
       "    <tr>\n",
       "      <th>9</th>\n",
       "      <td>65.289000</td>\n",
       "      <td>82.331000</td>\n",
       "      <td>73.810000</td>\n",
       "    </tr>\n",
       "    <tr>\n",
       "      <th>10</th>\n",
       "      <td>61.721290</td>\n",
       "      <td>78.190645</td>\n",
       "      <td>69.955968</td>\n",
       "    </tr>\n",
       "    <tr>\n",
       "      <th>11</th>\n",
       "      <td>57.896667</td>\n",
       "      <td>75.197667</td>\n",
       "      <td>66.547167</td>\n",
       "    </tr>\n",
       "    <tr>\n",
       "      <th>12</th>\n",
       "      <td>51.920000</td>\n",
       "      <td>67.545484</td>\n",
       "      <td>59.732742</td>\n",
       "    </tr>\n",
       "  </tbody>\n",
       "</table>\n",
       "</div>"
      ],
      "text/plain": [
       "             low       high        avg\n",
       "month                                 \n",
       "1      54.184839  72.787742  63.486290\n",
       "2      50.687143  69.269643  59.978393\n",
       "3      52.612581  67.956774  60.284677\n",
       "4      55.296333  73.235667  64.266000\n",
       "5      57.596774  70.464516  64.030645\n",
       "6      61.776667  77.205333  69.491000\n",
       "7      68.964516  86.211613  77.588065\n",
       "8      70.519032  86.880000  78.699516\n",
       "9      65.289000  82.331000  73.810000\n",
       "10     61.721290  78.190645  69.955968\n",
       "11     57.896667  75.197667  66.547167\n",
       "12     51.920000  67.545484  59.732742"
      ]
     },
     "execution_count": 395,
     "metadata": {},
     "output_type": "execute_result"
    }
   ],
   "source": [
    "m_avg_df2018 = df2018.resample('M', on='date').mean() \n",
    "m_avg_df2018 = m_avg_df2018.set_index('month'); m_avg_df2018"
   ]
  },
  {
   "cell_type": "code",
   "execution_count": 397,
   "metadata": {},
   "outputs": [
    {
     "data": {
      "text/plain": [
       "[<matplotlib.lines.Line2D at 0x112c0bc18>]"
      ]
     },
     "execution_count": 397,
     "metadata": {},
     "output_type": "execute_result"
    },
    {
     "data": {
      "image/png": "[encoded data removed]",
      "text/plain": [
       "<matplotlib.figure.Figure at 0x112a356a0>"
      ]
     },
     "metadata": {
      "needs_background": "light"
     },
     "output_type": "display_data"
    }
   ],
   "source": [
    "import matplotlib.pyplot as plt\n",
    "%matplotlib inline\n",
    "plt.plot(m_avg_df2018.avg)\n",
    "plt.plot(m_avg_df1970.avg)"
   ]
  },
  {
   "cell_type": "code",
   "execution_count": null,
   "metadata": {},
   "outputs": [],
   "source": []
  }
 ],
 "metadata": {
  "kernelspec": {
   "display_name": "Python 3",
   "language": "python",
   "name": "python3"
  },
  "language_info": {
   "codemirror_mode": {
    "name": "ipython",
    "version": 3
   },
   "file_extension": ".py",
   "mimetype": "text/x-python",
   "name": "python",
   "nbconvert_exporter": "python",
   "pygments_lexer": "ipython3",
   "version": "3.6.8"
  }
 },
 "nbformat": 4,
 "nbformat_minor": 2
}
